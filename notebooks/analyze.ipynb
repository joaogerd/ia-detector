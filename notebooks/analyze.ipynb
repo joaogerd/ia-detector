"""
# 📊 Análise do Modelo IA vs Humano

Este notebook apresenta:
- Cálculo de métricas de avaliação
- Matriz de confusão
- Curva ROC
- Distribuição das probabilidades
"""

import pandas as pd
import numpy as np
from sklearn.metrics import classification_report, confusion_matrix, ConfusionMatrixDisplay, roc_auc_score, roc_curve
import matplotlib.pyplot as plt
from transformers import AutoTokenizer, AutoModelForSequenceClassification, Trainer
from datasets import Dataset

# Carregar modelo e tokenizer
model = AutoModelForSequenceClassification.from_pretrained("../model")
tokenizer = AutoTokenizer.from_pretrained("../model")

# Carregar dados de teste
df = pd.read_csv("../dataset/ia_vs_human.csv")
dataset = Dataset.from_pandas(df).train_test_split(test_size=0.1, seed=42)["test"]

# Tokenizar
def tokenize(example):
    return tokenizer(example['text'], truncation=True, padding='max_length', max_length=512)

tokenized_dataset = dataset.map(tokenize, batched=True)

# Predição
trainer = Trainer(model=model)
preds = trainer.predict(tokenized_dataset)
y_true = preds.label_ids
y_prob = preds.predictions[:, 1]
y_pred = np.argmax(preds.predictions, axis=1)

# Relatório
print(classification_report(y_true, y_pred, target_names=['Humano', 'IA']))

# Matriz de confusão
ConfusionMatrixDisplay(confusion_matrix(y_true, y_pred), display_labels=['Humano', 'IA']).plot(cmap='Blues')
plt.title("Matriz de Confusão")
plt.show()

# Curva ROC
fpr, tpr, _ = roc_curve(y_true, y_prob)
roc_auc = roc_auc_score(y_true, y_prob)
plt.plot(fpr, tpr, label=f"AUC = {roc_auc:.2f}")
plt.plot([0, 1], [0, 1], linestyle='--', color='gray')
plt.xlabel("FPR")
plt.ylabel("TPR")
plt.title("Curva ROC")
plt.legend()
plt.grid(True)
plt.show()

# Distribuição das probabilidades
plt.hist(y_prob[y_true == 0], bins=20, alpha=0.6, label="Humanos")
plt.hist(y_prob[y_true == 1], bins=20, alpha=0.6, label="IA")
plt.title("Distribuição das Probabilidades (Classe IA)")
plt.xlabel("Probabilidade Classe IA")
plt.ylabel("Frequência")
plt.legend()
plt.grid(True)
plt.show()
